{
 "cells": [
  {
   "cell_type": "code",
   "execution_count": 5,
   "metadata": {},
   "outputs": [],
   "source": [
    "# https://attack.mitre.org/resources/attack-data-and-tools/\n",
    "# https://github.com/mitre-attack/mitreattack-python/tree/master/mitreattack/attackToExcel"
   ]
  },
  {
   "cell_type": "code",
   "execution_count": 1,
   "metadata": {},
   "outputs": [
    {
     "ename": "ModuleNotFoundError",
     "evalue": "No module named 'mitreattack'",
     "output_type": "error",
     "traceback": [
      "\u001b[1;31m---------------------------------------------------------------------------\u001b[0m",
      "\u001b[1;31mModuleNotFoundError\u001b[0m                       Traceback (most recent call last)",
      "Cell \u001b[1;32mIn[1], line 1\u001b[0m\n\u001b[1;32m----> 1\u001b[0m \u001b[38;5;28;01mimport\u001b[39;00m \u001b[38;5;21;01mmitreattack\u001b[39;00m\u001b[38;5;21;01m.\u001b[39;00m\u001b[38;5;21;01mattackToExcel\u001b[39;00m\u001b[38;5;21;01m.\u001b[39;00m\u001b[38;5;21;01mattackToExcel\u001b[39;00m \u001b[38;5;28;01mas\u001b[39;00m \u001b[38;5;21;01mattackToExcel\u001b[39;00m\n\u001b[0;32m      3\u001b[0m attackToExcel\u001b[38;5;241m.\u001b[39mexport(\u001b[38;5;124m\"\u001b[39m\u001b[38;5;124menterprise-attack-v15.1\u001b[39m\u001b[38;5;124m\"\u001b[39m, \u001b[38;5;124m\"\u001b[39m\u001b[38;5;124mv15.1\u001b[39m\u001b[38;5;124m\"\u001b[39m, \u001b[38;5;124m\"\u001b[39m\u001b[38;5;124m./data\u001b[39m\u001b[38;5;124m\"\u001b[39m)\n",
      "\u001b[1;31mModuleNotFoundError\u001b[0m: No module named 'mitreattack'"
     ]
    }
   ],
   "source": [
    "import mitreattack.attackToExcel.attackToExcel as attackToExcel\n",
    "\n",
    "attackToExcel.export(\"enterprise-attack-v15.1\", \"v15.1\", \"./data\")"
   ]
  },
  {
   "cell_type": "code",
   "execution_count": 2,
   "metadata": {},
   "outputs": [
    {
     "ename": "SyntaxError",
     "evalue": "invalid syntax (2556411007.py, line 2)",
     "output_type": "error",
     "traceback": [
      "\u001b[1;36m  Cell \u001b[1;32mIn[2], line 2\u001b[1;36m\u001b[0m\n\u001b[1;33m    python attackToExcell.py -h\u001b[0m\n\u001b[1;37m           ^\u001b[0m\n\u001b[1;31mSyntaxError\u001b[0m\u001b[1;31m:\u001b[0m invalid syntax\n"
     ]
    }
   ],
   "source": [
    "# usage instructions\n",
    "python attackToExcell.py -h"
   ]
  },
  {
   "cell_type": "code",
   "execution_count": null,
   "metadata": {},
   "outputs": [],
   "source": []
  },
  {
   "cell_type": "code",
   "execution_count": null,
   "metadata": {},
   "outputs": [],
   "source": [
    "import pandas as pd\n",
    "import janitor as jn\n",
    "import plotly.express as px\n",
    "\n",
    "pd.set_option('display.max_rows', None)\n",
    "pd.set_option('display.max_columns', None)"
   ]
  },
  {
   "cell_type": "code",
   "execution_count": null,
   "metadata": {},
   "outputs": [],
   "source": [
    "# read ATT&CK data locally\n",
    "attack_file = pd.ExcelFile('./data/enterprise-attack-v15.1.xlsx')\n",
    "\n",
    "df_datasources = pd.read_excel(attack_file, sheet_name='datasources')\n",
    "df_tactics = pd.read_excel(attack_file, sheet_name='tactics')\n",
    "df_techniques = pd.read_excel(attack_file, sheet_name='techniques')\n",
    "df_relationships = pd.read_excel(attack_file, sheet_name='relationships')\n",
    "df_mitigations = pd.read_excel(attack_file, sheet_name='mitigations')\n",
    "df_software = pd.read_excel(attack_file, sheet_name='software')\n",
    "df_groups = pd.read_excel(attack_file, sheet_name='groups') "
   ]
  },
  {
   "cell_type": "code",
   "execution_count": null,
   "metadata": {},
   "outputs": [],
   "source": [
    "## # read ATT&CK data from url\n",
    "# url_attack = 'https://attack.mitre.org/docs/enterprise-attack-v15.1/enterprise-attack-v15.1.xlsx'\n",
    "# df_datasources = pd.read_excel(url_attack, sheet_name='datasources')\n",
    "# df_tactics = pd.read_excel(url_attack, sheet_name='tactics')\n",
    "# df_techniques = pd.read_excel(url_attack, sheet_name='techniques')\n",
    "# df_relationships = pd.read_excel(url_attack, sheet_name='relationships')\n",
    "# df_mitigations = pd.read_excel(url_attack, sheet_name='mitigations')\n",
    "# df_software = pd.read_excel(url_attack, sheet_name='software')\n",
    "# df_groups = pd.read_excel(url_attack, sheet_name='groups')"
   ]
  },
  {
   "cell_type": "code",
   "execution_count": null,
   "metadata": {},
   "outputs": [],
   "source": [
    "df_datasources = jn.clean_names(df_datasources)\n",
    "df_tactics = jn.clean_names(df_tactics)\n",
    "df_techniques = jn.clean_names(df_techniques)\n",
    "df_relationships = jn.clean_names(df_relationships)\n",
    "df_mitigations = jn.clean_names(df_mitigations)\n",
    "df_software = jn.clean_names(df_software)\n",
    "df_groups = jn.clean_names(df_groups)"
   ]
  },
  {
   "cell_type": "code",
   "execution_count": null,
   "metadata": {},
   "outputs": [],
   "source": [
    "# Convert string of data sources to a list of data sources\n",
    "df_techniques['data_sources'] = df_techniques['data_sources'].str.split(\",\")\n",
    "# Use Pandas explode function to expand the list of data sources to separate rows\n",
    "df_techniques = df_techniques.explode('data_sources').reset_index(drop=True)\n",
    "# Get the technique ID and data sources then drop duplicate rows; place the output in a new data frame called 'viz_data' that'll be used for our visualization.\n",
    "viz_data = df_techniques[['data_sources','id']].drop_duplicates().groupby(['data_sources']).size().reset_index()\n",
    "# Rename column to 'count' in preparation for visualization\n",
    "viz_data.columns = viz_data.columns.map(str)\n",
    "viz_data = viz_data.rename(columns={\"0\": \"count\"})"
   ]
  },
  {
   "cell_type": "code",
   "execution_count": null,
   "metadata": {},
   "outputs": [],
   "source": [
    "fig_te_by_ds  = px.bar(viz_data.sort_values('count', ascending=False).head(50), x='data_sources', y='count', title='MITRE ATT&CK: Sub-Technique Count by Data Source (Top 25)', labels={'count':'Technique Count', 'data_sources':'Data Source'})\n",
    "fig_te_by_ds.show()"
   ]
  },
  {
   "cell_type": "code",
   "execution_count": null,
   "metadata": {},
   "outputs": [],
   "source": [
    "df_software_malware = df_software.loc[df_software['type'] == 'malware']\n",
    "\n",
    "df_software_malware.describe()\n"
   ]
  },
  {
   "cell_type": "code",
   "execution_count": null,
   "metadata": {},
   "outputs": [],
   "source": [
    "df_groups[df_groups['description'].str.contains(\"retail\")]['description']"
   ]
  },
  {
   "cell_type": "code",
   "execution_count": null,
   "metadata": {},
   "outputs": [],
   "source": [
    "df_groups_FIN7 = df_groups.loc[df_groups['name'] == 'FIN7']\n",
    "\n",
    "df_groups_FIN7"
   ]
  },
  {
   "cell_type": "code",
   "execution_count": null,
   "metadata": {},
   "outputs": [],
   "source": [
    "df_relationships_FIN7 = df_relationships.loc[df_relationships['source_name'] == 'FIN7']\n",
    "\n",
    "df_relationships_FIN7"
   ]
  },
  {
   "cell_type": "code",
   "execution_count": null,
   "metadata": {},
   "outputs": [],
   "source": [
    "df_relationships_FIN7.count()"
   ]
  },
  {
   "cell_type": "code",
   "execution_count": null,
   "metadata": {},
   "outputs": [],
   "source": [
    "#------------------------------------------------------------------------------"
   ]
  },
  {
   "cell_type": "code",
   "execution_count": null,
   "metadata": {},
   "outputs": [],
   "source": [
    "df_groups_APT28 = df_groups.loc[df_groups['name'] == 'APT28']\n",
    "\n",
    "df_groups_APT28"
   ]
  },
  {
   "cell_type": "code",
   "execution_count": null,
   "metadata": {},
   "outputs": [],
   "source": [
    "df_relationships_APT28 = df_relationships.loc[df_relationships['source_name'] == 'APT28']\n",
    "\n",
    "df_relationships_APT28 = df_relationships_APT28.loc[df_relationships_APT28['target_type'] == 'software']\n",
    "\n",
    "df_relationships_APT28"
   ]
  },
  {
   "cell_type": "code",
   "execution_count": null,
   "metadata": {},
   "outputs": [],
   "source": [
    "df_relationships_APT28.count()"
   ]
  },
  {
   "cell_type": "code",
   "execution_count": null,
   "metadata": {},
   "outputs": [],
   "source": [
    "import graphviz\n",
    "f = graphviz.Digraph(filename = \"output/attacktree.gv\")\n",
    "\n",
    "names = [\"1\",\"2\"]\n",
    "positions = [df_relationships_APT28['source_name'].iloc[0],\n",
    "             df_relationships_APT28['target_name'].iloc[0]]\n",
    "for name, position in zip (names, positions):\n",
    "     f.node(name, position, shape = \"record\", style = \"filled\", color = \"skyblue\")\n",
    " \n",
    "#Specify edges\n",
    "f.edge(\"1\",\"2\", label=\" uses\");\n",
    "\n",
    "f"
   ]
  },
  {
   "cell_type": "code",
   "execution_count": null,
   "metadata": {},
   "outputs": [],
   "source": []
  }
 ],
 "metadata": {
  "kernelspec": {
   "display_name": "Python 3 (ipykernel)",
   "language": "python",
   "name": "python3"
  },
  "language_info": {
   "codemirror_mode": {
    "name": "ipython",
    "version": 3
   },
   "file_extension": ".py",
   "mimetype": "text/x-python",
   "name": "python",
   "nbconvert_exporter": "python",
   "pygments_lexer": "ipython3",
   "version": "3.11.9"
  }
 },
 "nbformat": 4,
 "nbformat_minor": 4
}
